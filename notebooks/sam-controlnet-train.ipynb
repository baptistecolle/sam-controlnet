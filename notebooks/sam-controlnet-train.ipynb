{
 "cells": [
  {
   "attachments": {},
   "cell_type": "markdown",
   "id": "a72a2c08",
   "metadata": {},
   "source": [
    "# Sam Controlnet Train\n",
    "This notebook contains code to train our custom controlnet based on the sam-controlnet-dataset"
   ]
  },
  {
   "attachments": {},
   "cell_type": "markdown",
   "id": "a4ab906b",
   "metadata": {},
   "source": [
    "## Imports"
   ]
  },
  {
   "cell_type": "code",
   "execution_count": 1,
   "id": "a81b2d58",
   "metadata": {
    "execution": {
     "iopub.execute_input": "2023-06-07T14:50:57.253587Z",
     "iopub.status.busy": "2023-06-07T14:50:57.253125Z",
     "iopub.status.idle": "2023-06-07T14:54:52.019637Z",
     "shell.execute_reply": "2023-06-07T14:54:52.018137Z"
    },
    "papermill": {
     "duration": 234.77494,
     "end_time": "2023-06-07T14:54:52.022301",
     "exception": false,
     "start_time": "2023-06-07T14:50:57.247361",
     "status": "completed"
    },
    "tags": []
   },
   "outputs": [
    {
     "name": "stdout",
     "output_type": "stream",
     "text": [
      "Looking in indexes: https://download.pytorch.org/whl/cu118\r\n",
      "Requirement already satisfied: torch in /opt/conda/lib/python3.10/site-packages (2.0.0)\r\n",
      "Requirement already satisfied: torchvision in /opt/conda/lib/python3.10/site-packages (0.15.1)\r\n",
      "Requirement already satisfied: torchaudio in /opt/conda/lib/python3.10/site-packages (2.0.1)\r\n",
      "Requirement already satisfied: filelock in /opt/conda/lib/python3.10/site-packages (from torch) (3.12.0)\r\n",
      "Requirement already satisfied: typing-extensions in /opt/conda/lib/python3.10/site-packages (from torch) (4.5.0)\r\n",
      "Requirement already satisfied: sympy in /opt/conda/lib/python3.10/site-packages (from torch) (1.12)\r\n",
      "Requirement already satisfied: networkx in /opt/conda/lib/python3.10/site-packages (from torch) (3.1)\r\n",
      "Requirement already satisfied: jinja2 in /opt/conda/lib/python3.10/site-packages (from torch) (3.1.2)\r\n",
      "Requirement already satisfied: numpy in /opt/conda/lib/python3.10/site-packages (from torchvision) (1.23.5)\r\n",
      "Requirement already satisfied: requests in /opt/conda/lib/python3.10/site-packages (from torchvision) (2.28.2)\r\n",
      "Requirement already satisfied: pillow!=8.3.*,>=5.3.0 in /opt/conda/lib/python3.10/site-packages (from torchvision) (9.5.0)\r\n",
      "Requirement already satisfied: MarkupSafe>=2.0 in /opt/conda/lib/python3.10/site-packages (from jinja2->torch) (2.1.2)\r\n",
      "Requirement already satisfied: charset-normalizer<4,>=2 in /opt/conda/lib/python3.10/site-packages (from requests->torchvision) (2.1.1)\r\n",
      "Requirement already satisfied: idna<4,>=2.5 in /opt/conda/lib/python3.10/site-packages (from requests->torchvision) (3.4)\r\n",
      "Requirement already satisfied: urllib3<1.27,>=1.21.1 in /opt/conda/lib/python3.10/site-packages (from requests->torchvision) (1.26.15)\r\n",
      "Requirement already satisfied: certifi>=2017.4.17 in /opt/conda/lib/python3.10/site-packages (from requests->torchvision) (2023.5.7)\r\n",
      "Requirement already satisfied: mpmath>=0.19 in /opt/conda/lib/python3.10/site-packages (from sympy->torch) (1.3.0)\r\n",
      "\u001b[33mWARNING: Running pip as the 'root' user can result in broken permissions and conflicting behaviour with the system package manager. It is recommended to use a virtual environment instead: https://pip.pypa.io/warnings/venv\u001b[0m\u001b[33m\r\n",
      "\u001b[0mCollecting git+https://github.com/huggingface/diffusers.git\r\n",
      "  Cloning https://github.com/huggingface/diffusers.git to /tmp/pip-req-build-iu5_4l92\r\n",
      "  Running command git clone --filter=blob:none --quiet https://github.com/huggingface/diffusers.git /tmp/pip-req-build-iu5_4l92\r\n",
      "  Resolved https://github.com/huggingface/diffusers.git to commit cd9d0913d90b52d3609427ea2ad5d07b557677dd\r\n",
      "  Installing build dependencies ... \u001b[?25l-\b \b\\\b \b|\b \b/\b \bdone\r\n",
      "\u001b[?25h  Getting requirements to build wheel ... \u001b[?25l-\b \bdone\r\n",
      "\u001b[?25h  Preparing metadata (pyproject.toml) ... \u001b[?25l-\b \bdone\r\n",
      "\u001b[?25hRequirement already satisfied: wandb in /opt/conda/lib/python3.10/site-packages (0.15.3)\r\n",
      "Requirement already satisfied: importlib-metadata in /opt/conda/lib/python3.10/site-packages (from diffusers==0.17.0.dev0) (5.2.0)\r\n",
      "Requirement already satisfied: filelock in /opt/conda/lib/python3.10/site-packages (from diffusers==0.17.0.dev0) (3.12.0)\r\n",
      "Requirement already satisfied: huggingface-hub>=0.13.2 in /opt/conda/lib/python3.10/site-packages (from diffusers==0.17.0.dev0) (0.14.1)\r\n",
      "Requirement already satisfied: numpy in /opt/conda/lib/python3.10/site-packages (from diffusers==0.17.0.dev0) (1.23.5)\r\n",
      "Requirement already satisfied: regex!=2019.12.17 in /opt/conda/lib/python3.10/site-packages (from diffusers==0.17.0.dev0) (2023.5.5)\r\n",
      "Requirement already satisfied: requests in /opt/conda/lib/python3.10/site-packages (from diffusers==0.17.0.dev0) (2.28.2)\r\n",
      "Requirement already satisfied: Pillow in /opt/conda/lib/python3.10/site-packages (from diffusers==0.17.0.dev0) (9.5.0)\r\n",
      "Requirement already satisfied: Click!=8.0.0,>=7.0 in /opt/conda/lib/python3.10/site-packages (from wandb) (8.1.3)\r\n",
      "Requirement already satisfied: GitPython!=3.1.29,>=1.0.0 in /opt/conda/lib/python3.10/site-packages (from wandb) (3.1.31)\r\n",
      "Requirement already satisfied: psutil>=5.0.0 in /opt/conda/lib/python3.10/site-packages (from wandb) (5.9.3)\r\n",
      "Requirement already satisfied: sentry-sdk>=1.0.0 in /opt/conda/lib/python3.10/site-packages (from wandb) (1.24.0)\r\n",
      "Requirement already satisfied: docker-pycreds>=0.4.0 in /opt/conda/lib/python3.10/site-packages (from wandb) (0.4.0)\r\n",
      "Requirement already satisfied: PyYAML in /opt/conda/lib/python3.10/site-packages (from wandb) (5.4.1)\r\n",
      "Requirement already satisfied: pathtools in /opt/conda/lib/python3.10/site-packages (from wandb) (0.1.2)\r\n",
      "Requirement already satisfied: setproctitle in /opt/conda/lib/python3.10/site-packages (from wandb) (1.3.2)\r\n",
      "Requirement already satisfied: setuptools in /opt/conda/lib/python3.10/site-packages (from wandb) (59.8.0)\r\n",
      "Requirement already satisfied: appdirs>=1.4.3 in /opt/conda/lib/python3.10/site-packages (from wandb) (1.4.4)\r\n",
      "Requirement already satisfied: protobuf!=4.21.0,<5,>=3.19.0 in /opt/conda/lib/python3.10/site-packages (from wandb) (3.20.3)\r\n",
      "Requirement already satisfied: six>=1.4.0 in /opt/conda/lib/python3.10/site-packages (from docker-pycreds>=0.4.0->wandb) (1.16.0)\r\n",
      "Requirement already satisfied: gitdb<5,>=4.0.1 in /opt/conda/lib/python3.10/site-packages (from GitPython!=3.1.29,>=1.0.0->wandb) (4.0.10)\r\n",
      "Requirement already satisfied: fsspec in /opt/conda/lib/python3.10/site-packages (from huggingface-hub>=0.13.2->diffusers==0.17.0.dev0) (2023.5.0)\r\n",
      "Requirement already satisfied: tqdm>=4.42.1 in /opt/conda/lib/python3.10/site-packages (from huggingface-hub>=0.13.2->diffusers==0.17.0.dev0) (4.64.1)\r\n",
      "Requirement already satisfied: typing-extensions>=3.7.4.3 in /opt/conda/lib/python3.10/site-packages (from huggingface-hub>=0.13.2->diffusers==0.17.0.dev0) (4.5.0)\r\n",
      "Requirement already satisfied: packaging>=20.9 in /opt/conda/lib/python3.10/site-packages (from huggingface-hub>=0.13.2->diffusers==0.17.0.dev0) (21.3)\r\n",
      "Requirement already satisfied: charset-normalizer<4,>=2 in /opt/conda/lib/python3.10/site-packages (from requests->diffusers==0.17.0.dev0) (2.1.1)\r\n",
      "Requirement already satisfied: idna<4,>=2.5 in /opt/conda/lib/python3.10/site-packages (from requests->diffusers==0.17.0.dev0) (3.4)\r\n",
      "Requirement already satisfied: urllib3<1.27,>=1.21.1 in /opt/conda/lib/python3.10/site-packages (from requests->diffusers==0.17.0.dev0) (1.26.15)\r\n",
      "Requirement already satisfied: certifi>=2017.4.17 in /opt/conda/lib/python3.10/site-packages (from requests->diffusers==0.17.0.dev0) (2023.5.7)\r\n",
      "Requirement already satisfied: zipp>=0.5 in /opt/conda/lib/python3.10/site-packages (from importlib-metadata->diffusers==0.17.0.dev0) (3.15.0)\r\n",
      "Requirement already satisfied: smmap<6,>=3.0.1 in /opt/conda/lib/python3.10/site-packages (from gitdb<5,>=4.0.1->GitPython!=3.1.29,>=1.0.0->wandb) (5.0.0)\r\n",
      "Requirement already satisfied: pyparsing!=3.0.5,>=2.0.2 in /opt/conda/lib/python3.10/site-packages (from packaging>=20.9->huggingface-hub>=0.13.2->diffusers==0.17.0.dev0) (3.0.9)\r\n",
      "Building wheels for collected packages: diffusers\r\n",
      "  Building wheel for diffusers (pyproject.toml) ... \u001b[?25l-\b \b\\\b \b|\b \b/\b \bdone\r\n",
      "\u001b[?25h  Created wheel for diffusers: filename=diffusers-0.17.0.dev0-py3-none-any.whl size=1081832 sha256=160d59db4337129f61c66cc0cfb82fcb6777df20aad10b862769be24091b16a2\r\n",
      "  Stored in directory: /tmp/pip-ephem-wheel-cache-jorcw3xh/wheels/4d/b7/a8/6f9549ceec5daad78675b857ac57d697c387062506520a7b50\r\n",
      "Successfully built diffusers\r\n",
      "Installing collected packages: diffusers\r\n",
      "Successfully installed diffusers-0.17.0.dev0\r\n",
      "\u001b[33mWARNING: Running pip as the 'root' user can result in broken permissions and conflicting behaviour with the system package manager. It is recommended to use a virtual environment instead: https://pip.pypa.io/warnings/venv\u001b[0m\u001b[33m\r\n",
      "\u001b[0m\u001b[33mWARNING: Running pip as the 'root' user can result in broken permissions and conflicting behaviour with the system package manager. It is recommended to use a virtual environment instead: https://pip.pypa.io/warnings/venv\u001b[0m\u001b[33m\r\n",
      "\u001b[0m\u001b[33mWARNING: Running pip as the 'root' user can result in broken permissions and conflicting behaviour with the system package manager. It is recommended to use a virtual environment instead: https://pip.pypa.io/warnings/venv\u001b[0m\u001b[33m\r\n",
      "\u001b[0m\u001b[33mWARNING: Running pip as the 'root' user can result in broken permissions and conflicting behaviour with the system package manager. It is recommended to use a virtual environment instead: https://pip.pypa.io/warnings/venv\u001b[0m\u001b[33m\r\n",
      "\u001b[0m\u001b[33mWARNING: Running pip as the 'root' user can result in broken permissions and conflicting behaviour with the system package manager. It is recommended to use a virtual environment instead: https://pip.pypa.io/warnings/venv\u001b[0m\u001b[33m\r\n",
      "\u001b[0m\u001b[31mERROR: pip's dependency resolver does not currently take into account all the packages that are installed. This behaviour is the source of the following dependency conflicts.\r\n",
      "torchdata 0.6.0 requires torch==2.0.0, but you have torch 1.13.1 which is incompatible.\u001b[0m\u001b[31m\r\n",
      "\u001b[0m\u001b[33mWARNING: Running pip as the 'root' user can result in broken permissions and conflicting behaviour with the system package manager. It is recommended to use a virtual environment instead: https://pip.pypa.io/warnings/venv\u001b[0m\u001b[33m\r\n",
      "\u001b[0mCloning into 'diffusers'...\r\n",
      "remote: Enumerating objects: 26796, done.\u001b[K\r\n",
      "remote: Counting objects: 100% (360/360), done.\u001b[K\r\n",
      "remote: Compressing objects: 100% (252/252), done.\u001b[K\r\n",
      "remote: Total 26796 (delta 206), reused 195 (delta 89), pack-reused 26436\u001b[K\r\n",
      "Receiving objects: 100% (26796/26796), 18.36 MiB | 23.32 MiB/s, done.\r\n",
      "Resolving deltas: 100% (19494/19494), done.\r\n",
      "/kaggle/working/diffusers\n",
      "Obtaining file:///kaggle/working/diffusers\r\n",
      "  Installing build dependencies ... \u001b[?25l-\b \b\\\b \b|\b \bdone\r\n",
      "\u001b[?25h  Checking if build backend supports build_editable ... \u001b[?25ldone\r\n",
      "\u001b[?25h  Getting requirements to build editable ... \u001b[?25l-\b \bdone\r\n",
      "\u001b[?25h  Preparing editable metadata (pyproject.toml) ... \u001b[?25l-\b \bdone\r\n",
      "\u001b[?25hRequirement already satisfied: importlib-metadata in /opt/conda/lib/python3.10/site-packages (from diffusers==0.17.0.dev0) (5.2.0)\r\n",
      "Requirement already satisfied: filelock in /opt/conda/lib/python3.10/site-packages (from diffusers==0.17.0.dev0) (3.12.0)\r\n",
      "Requirement already satisfied: huggingface-hub>=0.13.2 in /opt/conda/lib/python3.10/site-packages (from diffusers==0.17.0.dev0) (0.14.1)\r\n",
      "Requirement already satisfied: numpy in /opt/conda/lib/python3.10/site-packages (from diffusers==0.17.0.dev0) (1.23.5)\r\n",
      "Requirement already satisfied: regex!=2019.12.17 in /opt/conda/lib/python3.10/site-packages (from diffusers==0.17.0.dev0) (2023.5.5)\r\n",
      "Requirement already satisfied: requests in /opt/conda/lib/python3.10/site-packages (from diffusers==0.17.0.dev0) (2.28.2)\r\n",
      "Requirement already satisfied: Pillow in /opt/conda/lib/python3.10/site-packages (from diffusers==0.17.0.dev0) (9.5.0)\r\n",
      "Requirement already satisfied: fsspec in /opt/conda/lib/python3.10/site-packages (from huggingface-hub>=0.13.2->diffusers==0.17.0.dev0) (2023.5.0)\r\n",
      "Requirement already satisfied: tqdm>=4.42.1 in /opt/conda/lib/python3.10/site-packages (from huggingface-hub>=0.13.2->diffusers==0.17.0.dev0) (4.64.1)\r\n",
      "Requirement already satisfied: pyyaml>=5.1 in /opt/conda/lib/python3.10/site-packages (from huggingface-hub>=0.13.2->diffusers==0.17.0.dev0) (5.4.1)\r\n",
      "Requirement already satisfied: typing-extensions>=3.7.4.3 in /opt/conda/lib/python3.10/site-packages (from huggingface-hub>=0.13.2->diffusers==0.17.0.dev0) (4.5.0)\r\n",
      "Requirement already satisfied: packaging>=20.9 in /opt/conda/lib/python3.10/site-packages (from huggingface-hub>=0.13.2->diffusers==0.17.0.dev0) (21.3)\r\n",
      "Requirement already satisfied: zipp>=0.5 in /opt/conda/lib/python3.10/site-packages (from importlib-metadata->diffusers==0.17.0.dev0) (3.15.0)\r\n",
      "Requirement already satisfied: charset-normalizer<4,>=2 in /opt/conda/lib/python3.10/site-packages (from requests->diffusers==0.17.0.dev0) (2.1.1)\r\n",
      "Requirement already satisfied: idna<4,>=2.5 in /opt/conda/lib/python3.10/site-packages (from requests->diffusers==0.17.0.dev0) (3.4)\r\n",
      "Requirement already satisfied: urllib3<1.27,>=1.21.1 in /opt/conda/lib/python3.10/site-packages (from requests->diffusers==0.17.0.dev0) (1.26.15)\r\n",
      "Requirement already satisfied: certifi>=2017.4.17 in /opt/conda/lib/python3.10/site-packages (from requests->diffusers==0.17.0.dev0) (2023.5.7)\r\n",
      "Requirement already satisfied: pyparsing!=3.0.5,>=2.0.2 in /opt/conda/lib/python3.10/site-packages (from packaging>=20.9->huggingface-hub>=0.13.2->diffusers==0.17.0.dev0) (3.0.9)\r\n",
      "Building wheels for collected packages: diffusers\r\n",
      "  Building editable for diffusers (pyproject.toml) ... \u001b[?25l-\b \bdone\r\n",
      "\u001b[?25h  Created wheel for diffusers: filename=diffusers-0.17.0.dev0-0.editable-py3-none-any.whl size=10524 sha256=d0b3a75dea0b2fb6d72a673c06ddb4a9ed0501cee5b080786818ff4bde4c723b\r\n",
      "  Stored in directory: /tmp/pip-ephem-wheel-cache-hzfjd_yn/wheels/f5/3d/4b/8e63ecf8f8467b91f49c2a926abe66393983fca5c47830e6e6\r\n",
      "Successfully built diffusers\r\n",
      "Installing collected packages: diffusers\r\n",
      "  Attempting uninstall: diffusers\r\n",
      "    Found existing installation: diffusers 0.17.0.dev0\r\n",
      "    Uninstalling diffusers-0.17.0.dev0:\r\n",
      "      Successfully uninstalled diffusers-0.17.0.dev0\r\n",
      "Successfully installed diffusers-0.17.0.dev0\r\n",
      "\u001b[33mWARNING: Running pip as the 'root' user can result in broken permissions and conflicting behaviour with the system package manager. It is recommended to use a virtual environment instead: https://pip.pypa.io/warnings/venv\u001b[0m\u001b[33m\r\n",
      "\u001b[0m"
     ]
    }
   ],
   "source": [
    "import os\n",
    "\n",
    "if os.environ.get('KAGGLE_KERNEL_RUN_TYPE', ''):\n",
    "    !pip3 install torch torchvision torchaudio --index-url https://download.pytorch.org/whl/cu118\n",
    "    !pip install git+https://github.com/huggingface/diffusers.git wandb \n",
    "    !pip install -q transformers==4.29.0\n",
    "    !pip install -q accelerate==0.19.0\n",
    "    !pip install -q huggingface-hub==0.14.1\n",
    "    !pip install -q datasets==2.12.0\n",
    "    !pip install -q xformers==0.0.16\n",
    "    # !pip install -q git+https://github.com/huggingface/diffusers you can do that instead of next 3 lines no???\n",
    "    !git clone https://github.com/huggingface/diffusers\n",
    "    %cd diffusers\n",
    "    !pip install -e ."
   ]
  },
  {
   "cell_type": "code",
   "execution_count": 2,
   "id": "db1d7605",
   "metadata": {
    "execution": {
     "iopub.execute_input": "2023-06-07T14:54:52.088911Z",
     "iopub.status.busy": "2023-06-07T14:54:52.087998Z",
     "iopub.status.idle": "2023-06-07T14:55:29.341509Z",
     "shell.execute_reply": "2023-06-07T14:55:29.340306Z"
    },
    "id": "bYT6gFb0aSpv",
    "outputId": "a48464c7-e213-4cdf-f1cd-0a92f3431af9",
    "papermill": {
     "duration": 37.288222,
     "end_time": "2023-06-07T14:55:29.344037",
     "exception": false,
     "start_time": "2023-06-07T14:54:52.055815",
     "status": "completed"
    },
    "tags": []
   },
   "outputs": [
    {
     "name": "stdout",
     "output_type": "stream",
     "text": [
      "Cloning into 'diffusers'...\r\n",
      "remote: Enumerating objects: 26796, done.\u001b[K\r\n",
      "remote: Counting objects: 100% (360/360), done.\u001b[K\r\n",
      "remote: Compressing objects: 100% (252/252), done.\u001b[K\r\n",
      "remote: Total 26796 (delta 206), reused 195 (delta 89), pack-reused 26436\u001b[K\r\n",
      "Receiving objects: 100% (26796/26796), 18.36 MiB | 21.12 MiB/s, done.\r\n",
      "Resolving deltas: 100% (19494/19494), done.\r\n",
      "/kaggle/working/diffusers/diffusers\n",
      "Obtaining file:///kaggle/working/diffusers/diffusers\r\n",
      "  Installing build dependencies ... \u001b[?25l-\b \b\\\b \b|\b \bdone\r\n",
      "\u001b[?25h  Checking if build backend supports build_editable ... \u001b[?25ldone\r\n",
      "\u001b[?25h  Getting requirements to build editable ... \u001b[?25l-\b \bdone\r\n",
      "\u001b[?25h  Preparing editable metadata (pyproject.toml) ... \u001b[?25l-\b \bdone\r\n",
      "\u001b[?25hRequirement already satisfied: importlib-metadata in /opt/conda/lib/python3.10/site-packages (from diffusers==0.17.0.dev0) (5.2.0)\r\n",
      "Requirement already satisfied: filelock in /opt/conda/lib/python3.10/site-packages (from diffusers==0.17.0.dev0) (3.12.0)\r\n",
      "Requirement already satisfied: huggingface-hub>=0.13.2 in /opt/conda/lib/python3.10/site-packages (from diffusers==0.17.0.dev0) (0.14.1)\r\n",
      "Requirement already satisfied: numpy in /opt/conda/lib/python3.10/site-packages (from diffusers==0.17.0.dev0) (1.23.5)\r\n",
      "Requirement already satisfied: regex!=2019.12.17 in /opt/conda/lib/python3.10/site-packages (from diffusers==0.17.0.dev0) (2023.5.5)\r\n",
      "Requirement already satisfied: requests in /opt/conda/lib/python3.10/site-packages (from diffusers==0.17.0.dev0) (2.28.2)\r\n",
      "Requirement already satisfied: Pillow in /opt/conda/lib/python3.10/site-packages (from diffusers==0.17.0.dev0) (9.5.0)\r\n",
      "Requirement already satisfied: fsspec in /opt/conda/lib/python3.10/site-packages (from huggingface-hub>=0.13.2->diffusers==0.17.0.dev0) (2023.5.0)\r\n",
      "Requirement already satisfied: tqdm>=4.42.1 in /opt/conda/lib/python3.10/site-packages (from huggingface-hub>=0.13.2->diffusers==0.17.0.dev0) (4.64.1)\r\n",
      "Requirement already satisfied: pyyaml>=5.1 in /opt/conda/lib/python3.10/site-packages (from huggingface-hub>=0.13.2->diffusers==0.17.0.dev0) (5.4.1)\r\n",
      "Requirement already satisfied: typing-extensions>=3.7.4.3 in /opt/conda/lib/python3.10/site-packages (from huggingface-hub>=0.13.2->diffusers==0.17.0.dev0) (4.5.0)\r\n",
      "Requirement already satisfied: packaging>=20.9 in /opt/conda/lib/python3.10/site-packages (from huggingface-hub>=0.13.2->diffusers==0.17.0.dev0) (21.3)\r\n",
      "Requirement already satisfied: zipp>=0.5 in /opt/conda/lib/python3.10/site-packages (from importlib-metadata->diffusers==0.17.0.dev0) (3.15.0)\r\n",
      "Requirement already satisfied: charset-normalizer<4,>=2 in /opt/conda/lib/python3.10/site-packages (from requests->diffusers==0.17.0.dev0) (2.1.1)\r\n",
      "Requirement already satisfied: idna<4,>=2.5 in /opt/conda/lib/python3.10/site-packages (from requests->diffusers==0.17.0.dev0) (3.4)\r\n",
      "Requirement already satisfied: urllib3<1.27,>=1.21.1 in /opt/conda/lib/python3.10/site-packages (from requests->diffusers==0.17.0.dev0) (1.26.15)\r\n",
      "Requirement already satisfied: certifi>=2017.4.17 in /opt/conda/lib/python3.10/site-packages (from requests->diffusers==0.17.0.dev0) (2023.5.7)\r\n",
      "Requirement already satisfied: pyparsing!=3.0.5,>=2.0.2 in /opt/conda/lib/python3.10/site-packages (from packaging>=20.9->huggingface-hub>=0.13.2->diffusers==0.17.0.dev0) (3.0.9)\r\n",
      "Building wheels for collected packages: diffusers\r\n",
      "  Building editable for diffusers (pyproject.toml) ... \u001b[?25l-\b \bdone\r\n",
      "\u001b[?25h  Created wheel for diffusers: filename=diffusers-0.17.0.dev0-0.editable-py3-none-any.whl size=10525 sha256=048b367fde1300902aabb3ec948ee0dc3fd0cfe167e1c95f5add787e3aee40c2\r\n",
      "  Stored in directory: /tmp/pip-ephem-wheel-cache-85cvorce/wheels/b6/4d/b3/0f56ce2a7ce37ac3b2d3f2e3c13b92e3c54041deb83e5dea61\r\n",
      "Successfully built diffusers\r\n",
      "Installing collected packages: diffusers\r\n",
      "  Attempting uninstall: diffusers\r\n",
      "    Found existing installation: diffusers 0.17.0.dev0\r\n",
      "    Uninstalling diffusers-0.17.0.dev0:\r\n",
      "      Successfully uninstalled diffusers-0.17.0.dev0\r\n",
      "Successfully installed diffusers-0.17.0.dev0\r\n",
      "\u001b[33mWARNING: Running pip as the 'root' user can result in broken permissions and conflicting behaviour with the system package manager. It is recommended to use a virtual environment instead: https://pip.pypa.io/warnings/venv\u001b[0m\u001b[33m\r\n",
      "\u001b[0m"
     ]
    }
   ],
   "source": [
    "!git clone https://github.com/huggingface/diffusers\n",
    "%cd diffusers\n",
    "!pip install -e ."
   ]
  },
  {
   "cell_type": "code",
   "execution_count": 3,
   "id": "cdcaaaf6",
   "metadata": {
    "execution": {
     "iopub.execute_input": "2023-06-07T14:55:29.376106Z",
     "iopub.status.busy": "2023-06-07T14:55:29.375771Z",
     "iopub.status.idle": "2023-06-07T14:55:29.384660Z",
     "shell.execute_reply": "2023-06-07T14:55:29.383794Z"
    },
    "id": "9c2VBF6dA1sH",
    "outputId": "855419d6-799b-4f3b-8e51-00820fa7af00",
    "papermill": {
     "duration": 0.027235,
     "end_time": "2023-06-07T14:55:29.386570",
     "exception": false,
     "start_time": "2023-06-07T14:55:29.359335",
     "status": "completed"
    },
    "tags": []
   },
   "outputs": [
    {
     "name": "stdout",
     "output_type": "stream",
     "text": [
      "/kaggle/working/diffusers/diffusers/examples/controlnet\n"
     ]
    }
   ],
   "source": [
    "%cd examples/controlnet"
   ]
  },
  {
   "cell_type": "code",
   "execution_count": 4,
   "id": "bd0bba06",
   "metadata": {
    "execution": {
     "iopub.execute_input": "2023-06-07T14:55:29.417843Z",
     "iopub.status.busy": "2023-06-07T14:55:29.417564Z",
     "iopub.status.idle": "2023-06-07T14:55:41.976409Z",
     "shell.execute_reply": "2023-06-07T14:55:41.975249Z"
    },
    "id": "Tmhhx3U2iSMX",
    "outputId": "d22659a3-c4e8-47ee-dc79-77523905441c",
    "papermill": {
     "duration": 12.577254,
     "end_time": "2023-06-07T14:55:41.978835",
     "exception": false,
     "start_time": "2023-06-07T14:55:29.401581",
     "status": "completed"
    },
    "tags": []
   },
   "outputs": [
    {
     "name": "stdout",
     "output_type": "stream",
     "text": [
      "README.md\t  requirements_flax.txt  train_controlnet_flax.py\r\n",
      "requirements.txt  train_controlnet.py\r\n",
      "Requirement already satisfied: accelerate>=0.16.0 in /opt/conda/lib/python3.10/site-packages (from -r requirements.txt (line 1)) (0.19.0)\r\n",
      "Requirement already satisfied: torchvision in /opt/conda/lib/python3.10/site-packages (from -r requirements.txt (line 2)) (0.15.1)\r\n",
      "Requirement already satisfied: transformers>=4.25.1 in /opt/conda/lib/python3.10/site-packages (from -r requirements.txt (line 3)) (4.29.0)\r\n",
      "Collecting ftfy (from -r requirements.txt (line 4))\r\n",
      "  Downloading ftfy-6.1.1-py3-none-any.whl (53 kB)\r\n",
      "\u001b[2K     \u001b[90m━━━━━━━━━━━━━━━━━━━━━━━━━━━━━━━━━━━━━━━━\u001b[0m \u001b[32m53.1/53.1 kB\u001b[0m \u001b[31m2.4 MB/s\u001b[0m eta \u001b[36m0:00:00\u001b[0m\r\n",
      "\u001b[?25hRequirement already satisfied: tensorboard in /opt/conda/lib/python3.10/site-packages (from -r requirements.txt (line 5)) (2.12.3)\r\n",
      "Requirement already satisfied: datasets in /opt/conda/lib/python3.10/site-packages (from -r requirements.txt (line 6)) (2.12.0)\r\n",
      "Requirement already satisfied: numpy>=1.17 in /opt/conda/lib/python3.10/site-packages (from accelerate>=0.16.0->-r requirements.txt (line 1)) (1.23.5)\r\n",
      "Requirement already satisfied: packaging>=20.0 in /opt/conda/lib/python3.10/site-packages (from accelerate>=0.16.0->-r requirements.txt (line 1)) (21.3)\r\n",
      "Requirement already satisfied: psutil in /opt/conda/lib/python3.10/site-packages (from accelerate>=0.16.0->-r requirements.txt (line 1)) (5.9.3)\r\n",
      "Requirement already satisfied: pyyaml in /opt/conda/lib/python3.10/site-packages (from accelerate>=0.16.0->-r requirements.txt (line 1)) (5.4.1)\r\n",
      "Requirement already satisfied: torch>=1.6.0 in /opt/conda/lib/python3.10/site-packages (from accelerate>=0.16.0->-r requirements.txt (line 1)) (1.13.1)\r\n",
      "Requirement already satisfied: requests in /opt/conda/lib/python3.10/site-packages (from torchvision->-r requirements.txt (line 2)) (2.28.2)\r\n",
      "Requirement already satisfied: pillow!=8.3.*,>=5.3.0 in /opt/conda/lib/python3.10/site-packages (from torchvision->-r requirements.txt (line 2)) (9.5.0)\r\n",
      "Requirement already satisfied: filelock in /opt/conda/lib/python3.10/site-packages (from transformers>=4.25.1->-r requirements.txt (line 3)) (3.12.0)\r\n",
      "Requirement already satisfied: huggingface-hub<1.0,>=0.11.0 in /opt/conda/lib/python3.10/site-packages (from transformers>=4.25.1->-r requirements.txt (line 3)) (0.14.1)\r\n",
      "Requirement already satisfied: regex!=2019.12.17 in /opt/conda/lib/python3.10/site-packages (from transformers>=4.25.1->-r requirements.txt (line 3)) (2023.5.5)\r\n",
      "Requirement already satisfied: tokenizers!=0.11.3,<0.14,>=0.11.1 in /opt/conda/lib/python3.10/site-packages (from transformers>=4.25.1->-r requirements.txt (line 3)) (0.13.3)\r\n",
      "Requirement already satisfied: tqdm>=4.27 in /opt/conda/lib/python3.10/site-packages (from transformers>=4.25.1->-r requirements.txt (line 3)) (4.64.1)\r\n",
      "Requirement already satisfied: wcwidth>=0.2.5 in /opt/conda/lib/python3.10/site-packages (from ftfy->-r requirements.txt (line 4)) (0.2.6)\r\n",
      "Requirement already satisfied: absl-py>=0.4 in /opt/conda/lib/python3.10/site-packages (from tensorboard->-r requirements.txt (line 5)) (1.4.0)\r\n",
      "Requirement already satisfied: grpcio>=1.48.2 in /opt/conda/lib/python3.10/site-packages (from tensorboard->-r requirements.txt (line 5)) (1.51.1)\r\n",
      "Requirement already satisfied: google-auth<3,>=1.6.3 in /opt/conda/lib/python3.10/site-packages (from tensorboard->-r requirements.txt (line 5)) (2.17.3)\r\n",
      "Requirement already satisfied: google-auth-oauthlib<1.1,>=0.5 in /opt/conda/lib/python3.10/site-packages (from tensorboard->-r requirements.txt (line 5)) (1.0.0)\r\n",
      "Requirement already satisfied: markdown>=2.6.8 in /opt/conda/lib/python3.10/site-packages (from tensorboard->-r requirements.txt (line 5)) (3.4.3)\r\n",
      "Requirement already satisfied: protobuf>=3.19.6 in /opt/conda/lib/python3.10/site-packages (from tensorboard->-r requirements.txt (line 5)) (3.20.3)\r\n",
      "Requirement already satisfied: setuptools>=41.0.0 in /opt/conda/lib/python3.10/site-packages (from tensorboard->-r requirements.txt (line 5)) (59.8.0)\r\n",
      "Requirement already satisfied: tensorboard-data-server<0.8.0,>=0.7.0 in /opt/conda/lib/python3.10/site-packages (from tensorboard->-r requirements.txt (line 5)) (0.7.0)\r\n",
      "Requirement already satisfied: werkzeug>=1.0.1 in /opt/conda/lib/python3.10/site-packages (from tensorboard->-r requirements.txt (line 5)) (2.3.4)\r\n",
      "Requirement already satisfied: wheel>=0.26 in /opt/conda/lib/python3.10/site-packages (from tensorboard->-r requirements.txt (line 5)) (0.40.0)\r\n",
      "Requirement already satisfied: pyarrow>=8.0.0 in /opt/conda/lib/python3.10/site-packages (from datasets->-r requirements.txt (line 6)) (10.0.1)\r\n",
      "Requirement already satisfied: dill<0.3.7,>=0.3.0 in /opt/conda/lib/python3.10/site-packages (from datasets->-r requirements.txt (line 6)) (0.3.6)\r\n",
      "Requirement already satisfied: pandas in /opt/conda/lib/python3.10/site-packages (from datasets->-r requirements.txt (line 6)) (1.5.3)\r\n",
      "Requirement already satisfied: xxhash in /opt/conda/lib/python3.10/site-packages (from datasets->-r requirements.txt (line 6)) (3.2.0)\r\n",
      "Requirement already satisfied: multiprocess in /opt/conda/lib/python3.10/site-packages (from datasets->-r requirements.txt (line 6)) (0.70.14)\r\n",
      "Requirement already satisfied: fsspec[http]>=2021.11.1 in /opt/conda/lib/python3.10/site-packages (from datasets->-r requirements.txt (line 6)) (2023.5.0)\r\n",
      "Requirement already satisfied: aiohttp in /opt/conda/lib/python3.10/site-packages (from datasets->-r requirements.txt (line 6)) (3.8.4)\r\n",
      "Requirement already satisfied: responses<0.19 in /opt/conda/lib/python3.10/site-packages (from datasets->-r requirements.txt (line 6)) (0.18.0)\r\n",
      "Requirement already satisfied: attrs>=17.3.0 in /opt/conda/lib/python3.10/site-packages (from aiohttp->datasets->-r requirements.txt (line 6)) (23.1.0)\r\n",
      "Requirement already satisfied: charset-normalizer<4.0,>=2.0 in /opt/conda/lib/python3.10/site-packages (from aiohttp->datasets->-r requirements.txt (line 6)) (2.1.1)\r\n",
      "Requirement already satisfied: multidict<7.0,>=4.5 in /opt/conda/lib/python3.10/site-packages (from aiohttp->datasets->-r requirements.txt (line 6)) (6.0.4)\r\n",
      "Requirement already satisfied: async-timeout<5.0,>=4.0.0a3 in /opt/conda/lib/python3.10/site-packages (from aiohttp->datasets->-r requirements.txt (line 6)) (4.0.2)\r\n",
      "Requirement already satisfied: yarl<2.0,>=1.0 in /opt/conda/lib/python3.10/site-packages (from aiohttp->datasets->-r requirements.txt (line 6)) (1.9.1)\r\n",
      "Requirement already satisfied: frozenlist>=1.1.1 in /opt/conda/lib/python3.10/site-packages (from aiohttp->datasets->-r requirements.txt (line 6)) (1.3.3)\r\n",
      "Requirement already satisfied: aiosignal>=1.1.2 in /opt/conda/lib/python3.10/site-packages (from aiohttp->datasets->-r requirements.txt (line 6)) (1.3.1)\r\n",
      "Requirement already satisfied: cachetools<6.0,>=2.0.0 in /opt/conda/lib/python3.10/site-packages (from google-auth<3,>=1.6.3->tensorboard->-r requirements.txt (line 5)) (4.2.4)\r\n",
      "Requirement already satisfied: pyasn1-modules>=0.2.1 in /opt/conda/lib/python3.10/site-packages (from google-auth<3,>=1.6.3->tensorboard->-r requirements.txt (line 5)) (0.2.7)\r\n",
      "Requirement already satisfied: six>=1.9.0 in /opt/conda/lib/python3.10/site-packages (from google-auth<3,>=1.6.3->tensorboard->-r requirements.txt (line 5)) (1.16.0)\r\n",
      "Requirement already satisfied: rsa<5,>=3.1.4 in /opt/conda/lib/python3.10/site-packages (from google-auth<3,>=1.6.3->tensorboard->-r requirements.txt (line 5)) (4.9)\r\n",
      "Requirement already satisfied: requests-oauthlib>=0.7.0 in /opt/conda/lib/python3.10/site-packages (from google-auth-oauthlib<1.1,>=0.5->tensorboard->-r requirements.txt (line 5)) (1.3.1)\r\n",
      "Requirement already satisfied: typing-extensions>=3.7.4.3 in /opt/conda/lib/python3.10/site-packages (from huggingface-hub<1.0,>=0.11.0->transformers>=4.25.1->-r requirements.txt (line 3)) (4.5.0)\r\n",
      "Requirement already satisfied: pyparsing!=3.0.5,>=2.0.2 in /opt/conda/lib/python3.10/site-packages (from packaging>=20.0->accelerate>=0.16.0->-r requirements.txt (line 1)) (3.0.9)\r\n",
      "Requirement already satisfied: idna<4,>=2.5 in /opt/conda/lib/python3.10/site-packages (from requests->torchvision->-r requirements.txt (line 2)) (3.4)\r\n",
      "Requirement already satisfied: urllib3<1.27,>=1.21.1 in /opt/conda/lib/python3.10/site-packages (from requests->torchvision->-r requirements.txt (line 2)) (1.26.15)\r\n",
      "Requirement already satisfied: certifi>=2017.4.17 in /opt/conda/lib/python3.10/site-packages (from requests->torchvision->-r requirements.txt (line 2)) (2023.5.7)\r\n",
      "Requirement already satisfied: nvidia-cuda-runtime-cu11==11.7.99 in /opt/conda/lib/python3.10/site-packages (from torch>=1.6.0->accelerate>=0.16.0->-r requirements.txt (line 1)) (11.7.99)\r\n",
      "Requirement already satisfied: nvidia-cudnn-cu11==8.5.0.96 in /opt/conda/lib/python3.10/site-packages (from torch>=1.6.0->accelerate>=0.16.0->-r requirements.txt (line 1)) (8.5.0.96)\r\n",
      "Requirement already satisfied: nvidia-cublas-cu11==11.10.3.66 in /opt/conda/lib/python3.10/site-packages (from torch>=1.6.0->accelerate>=0.16.0->-r requirements.txt (line 1)) (11.10.3.66)\r\n",
      "Requirement already satisfied: nvidia-cuda-nvrtc-cu11==11.7.99 in /opt/conda/lib/python3.10/site-packages (from torch>=1.6.0->accelerate>=0.16.0->-r requirements.txt (line 1)) (11.7.99)\r\n",
      "Requirement already satisfied: MarkupSafe>=2.1.1 in /opt/conda/lib/python3.10/site-packages (from werkzeug>=1.0.1->tensorboard->-r requirements.txt (line 5)) (2.1.2)\r\n",
      "Requirement already satisfied: python-dateutil>=2.8.1 in /opt/conda/lib/python3.10/site-packages (from pandas->datasets->-r requirements.txt (line 6)) (2.8.2)\r\n",
      "Requirement already satisfied: pytz>=2020.1 in /opt/conda/lib/python3.10/site-packages (from pandas->datasets->-r requirements.txt (line 6)) (2023.3)\r\n",
      "Requirement already satisfied: pyasn1<0.5.0,>=0.4.6 in /opt/conda/lib/python3.10/site-packages (from pyasn1-modules>=0.2.1->google-auth<3,>=1.6.3->tensorboard->-r requirements.txt (line 5)) (0.4.8)\r\n",
      "Requirement already satisfied: oauthlib>=3.0.0 in /opt/conda/lib/python3.10/site-packages (from requests-oauthlib>=0.7.0->google-auth-oauthlib<1.1,>=0.5->tensorboard->-r requirements.txt (line 5)) (3.2.2)\r\n",
      "Installing collected packages: ftfy\r\n",
      "Successfully installed ftfy-6.1.1\r\n",
      "\u001b[33mWARNING: Running pip as the 'root' user can result in broken permissions and conflicting behaviour with the system package manager. It is recommended to use a virtual environment instead: https://pip.pypa.io/warnings/venv\u001b[0m\u001b[33m\r\n",
      "\u001b[0m"
     ]
    }
   ],
   "source": [
    "!ls\n",
    "!pip install -r requirements.txt"
   ]
  },
  {
   "cell_type": "code",
   "execution_count": 5,
   "id": "0a0363a3",
   "metadata": {
    "execution": {
     "iopub.execute_input": "2023-06-07T14:55:42.016005Z",
     "iopub.status.busy": "2023-06-07T14:55:42.015038Z",
     "iopub.status.idle": "2023-06-07T14:55:46.935890Z",
     "shell.execute_reply": "2023-06-07T14:55:46.934543Z"
    },
    "id": "gYsG5V6-xulw",
    "outputId": "c21574d2-10fe-4cfc-bf66-0cd21192dce7",
    "papermill": {
     "duration": 4.942153,
     "end_time": "2023-06-07T14:55:46.938492",
     "exception": false,
     "start_time": "2023-06-07T14:55:41.996339",
     "status": "completed"
    },
    "tags": []
   },
   "outputs": [
    {
     "name": "stdout",
     "output_type": "stream",
     "text": [
      "--2023-06-07 14:55:42--  https://datasets-server.huggingface.co/assets/baptistecolle/sam-controlnet-final/--/baptistecolle--sam-controlnet-final/train/0/conditioning_image/image.jpg\r\n",
      "Resolving datasets-server.huggingface.co (datasets-server.huggingface.co)... 34.200.186.24, 50.17.173.235, 44.197.252.161, ...\r\n",
      "Connecting to datasets-server.huggingface.co (datasets-server.huggingface.co)|34.200.186.24|:443... connected.\r\n",
      "HTTP request sent, awaiting response... 200 OK\r\n",
      "Length: 21234 (21K) [image/jpeg]\r\n",
      "Saving to: ‘image.jpg’\r\n",
      "\r\n",
      "image.jpg           100%[===================>]  20.74K  --.-KB/s    in 0.06s   \r\n",
      "\r\n",
      "2023-06-07 14:55:43 (327 KB/s) - ‘image.jpg’ saved [21234/21234]\r\n",
      "\r\n",
      "--2023-06-07 14:55:45--  https://datasets-server.huggingface.co/assets/baptistecolle/sam-controlnet-final/--/baptistecolle--sam-controlnet-final/train/1/conditioning_image/image.jpg\r\n",
      "Resolving datasets-server.huggingface.co (datasets-server.huggingface.co)... 34.200.186.24, 50.17.173.235, 44.197.252.161, ...\r\n",
      "Connecting to datasets-server.huggingface.co (datasets-server.huggingface.co)|34.200.186.24|:443... connected.\r\n",
      "HTTP request sent, awaiting response... 200 OK\r\n",
      "Length: 26644 (26K) [image/jpeg]\r\n",
      "Saving to: ‘image.jpg’\r\n",
      "\r\n",
      "image.jpg           100%[===================>]  26.02K  --.-KB/s    in 0.07s   \r\n",
      "\r\n",
      "2023-06-07 14:55:45 (388 KB/s) - ‘image.jpg’ saved [26644/26644]\r\n",
      "\r\n"
     ]
    }
   ],
   "source": [
    "!wget https://datasets-server.huggingface.co/assets/baptistecolle/sam-controlnet-final/--/baptistecolle--sam-controlnet-final/train/0/conditioning_image/image.jpg\n",
    "!mv image.jpg image0.jpg\n",
    "!wget https://datasets-server.huggingface.co/assets/baptistecolle/sam-controlnet-final/--/baptistecolle--sam-controlnet-final/train/1/conditioning_image/image.jpg\n",
    "!mv image.jpg image1.jpg"
   ]
  },
  {
   "cell_type": "code",
   "execution_count": 6,
   "id": "6cd67154",
   "metadata": {
    "execution": {
     "iopub.execute_input": "2023-06-07T14:55:46.976682Z",
     "iopub.status.busy": "2023-06-07T14:55:46.976310Z",
     "iopub.status.idle": "2023-06-07T14:55:47.913885Z",
     "shell.execute_reply": "2023-06-07T14:55:47.912576Z"
    },
    "id": "nYv-o2szz2M-",
    "papermill": {
     "duration": 0.9594,
     "end_time": "2023-06-07T14:55:47.916718",
     "exception": false,
     "start_time": "2023-06-07T14:55:46.957318",
     "status": "completed"
    },
    "tags": []
   },
   "outputs": [],
   "source": [
    "!mkdir model"
   ]
  },
  {
   "cell_type": "code",
   "execution_count": 7,
   "id": "a2c11523",
   "metadata": {
    "execution": {
     "iopub.execute_input": "2023-06-07T14:55:47.954789Z",
     "iopub.status.busy": "2023-06-07T14:55:47.953980Z",
     "iopub.status.idle": "2023-06-07T14:56:01.693274Z",
     "shell.execute_reply": "2023-06-07T14:56:01.691955Z"
    },
    "id": "JBmf_40HApKv",
    "outputId": "3b08039a-3776-419e-ccf2-354f40a50890",
    "papermill": {
     "duration": 13.761376,
     "end_time": "2023-06-07T14:56:01.696147",
     "exception": false,
     "start_time": "2023-06-07T14:55:47.934771",
     "status": "completed"
    },
    "tags": []
   },
   "outputs": [
    {
     "name": "stdout",
     "output_type": "stream",
     "text": [
      "accelerate configuration saved at /root/.cache/huggingface/accelerate/default_config.yaml\r\n",
      "mv: cannot move '/root/.cache/huggingface/accelerate/default_config.yaml' to '/content/': Not a directory\r\n",
      "mv: cannot stat '/content/default_config.yaml': No such file or directory\r\n",
      "Sucessfully updated the configuration file at /root/.cache/huggingface/accelerate/default_config.yaml.\r\n"
     ]
    }
   ],
   "source": [
    "!accelerate config default\n",
    "!mv /root/.cache/huggingface/accelerate/default_config.yaml /content/\n",
    "!mv /content/default_config.yaml /root/.cache/huggingface/accelerate/\n",
    "!accelerate config update"
   ]
  },
  {
   "cell_type": "code",
   "execution_count": 8,
   "id": "50bfda96",
   "metadata": {
    "execution": {
     "iopub.execute_input": "2023-06-07T14:56:01.741340Z",
     "iopub.status.busy": "2023-06-07T14:56:01.740272Z",
     "iopub.status.idle": "2023-06-07T14:56:05.991631Z",
     "shell.execute_reply": "2023-06-07T14:56:05.990467Z"
    },
    "papermill": {
     "duration": 4.276254,
     "end_time": "2023-06-07T14:56:05.993985",
     "exception": false,
     "start_time": "2023-06-07T14:56:01.717731",
     "status": "completed"
    },
    "tags": []
   },
   "outputs": [
    {
     "name": "stdout",
     "output_type": "stream",
     "text": [
      "\u001b[34m\u001b[1mwandb\u001b[0m: \u001b[33mWARNING\u001b[0m If you're specifying your api key in code, ensure this code is not shared publicly.\r\n",
      "\u001b[34m\u001b[1mwandb\u001b[0m: \u001b[33mWARNING\u001b[0m Consider setting the WANDB_API_KEY environment variable, or running `wandb login` from the command line.\r\n",
      "\u001b[34m\u001b[1mwandb\u001b[0m: Appending key for api.wandb.ai to your netrc file: /root/.netrc\r\n"
     ]
    }
   ],
   "source": [
    "!wandb login $WANDB_API_KEY"
   ]
  },
  {
   "attachments": {},
   "cell_type": "markdown",
   "id": "bdf5973a",
   "metadata": {},
   "source": [
    "## Training"
   ]
  },
  {
   "cell_type": "code",
   "execution_count": 9,
   "id": "cd187c5b",
   "metadata": {
    "execution": {
     "iopub.execute_input": "2023-06-07T14:56:06.032077Z",
     "iopub.status.busy": "2023-06-07T14:56:06.031720Z",
     "iopub.status.idle": "2023-06-07T14:56:06.044667Z",
     "shell.execute_reply": "2023-06-07T14:56:06.043441Z"
    },
    "id": "rbFwznFxxxeh",
    "outputId": "cd3aceb0-a7c4-4749-b9dd-1dad7fd8288c",
    "papermill": {
     "duration": 0.033611,
     "end_time": "2023-06-07T14:56:06.045994",
     "exception": true,
     "start_time": "2023-06-07T14:56:06.012383",
     "status": "failed"
    },
    "tags": []
   },
   "outputs": [
    {
     "ename": "IndentationError",
     "evalue": "unexpected indent (1136308320.py, line 5)",
     "output_type": "error",
     "traceback": [
      "\u001b[0;36m  Cell \u001b[0;32mIn[9], line 5\u001b[0;36m\u001b[0m\n\u001b[0;31m    --image_column=image \\\u001b[0m\n\u001b[0m    ^\u001b[0m\n\u001b[0;31mIndentationError\u001b[0m\u001b[0;31m:\u001b[0m unexpected indent\n"
     ]
    }
   ],
   "source": [
    "%env MODEL_DIR=runwayml/stable-diffusion-v1-5\n",
    "%env OUTPUT_DIR=model/\n",
    "\n",
    "!accelerate launch train_controlnet.py \\\n",
    " --pretrained_model_name_or_path=runwayml/stable-diffusion-v1-5 \\\n",
    " --controlnet_model_name_or_path=lllyasviel/sd-controlnet-seg \\\n",
    " --output_dir=$OUTPUT_DIR \\\n",
    " --dataset_name=baptistecolle/sam-controlnet-final \\\n",
    " --resolution=512 \\\n",
    " --learning_rate=1e-5 \\\n",
    " --validation_image \"./image0.png\" \"./image1.png\" \\\n",
    " --validation_prompt \"A woman wearing a net on her head cutting a cake. \" \"A young boy standing in front of a computer keyboard.\" \\\n",
    " --train_batch_size=1 \\\n",
    " --gradient_accumulation_steps=4 \\\n",
    " --gradient_checkpointing \\\n",
    " --use_8bit_adam \\\n",
    " --enable_xformers_memory_efficient_attention \\\n",
    " --set_grads_to_none \n",
    " --image_column=image \\\n",
    " --caption_column=text \\\n",
    " --report_to=wandb \\\n",
    " --resume_from_checkpoint"
   ]
  }
 ],
 "metadata": {
  "kernelspec": {
   "display_name": "Python 3",
   "language": "python",
   "name": "python3"
  },
  "language_info": {
   "codemirror_mode": {
    "name": "ipython",
    "version": 3
   },
   "file_extension": ".py",
   "mimetype": "text/x-python",
   "name": "python",
   "nbconvert_exporter": "python",
   "pygments_lexer": "ipython3",
   "version": "3.10.10"
  },
  "papermill": {
   "default_parameters": {},
   "duration": 320.461186,
   "end_time": "2023-06-07T14:56:06.783688",
   "environment_variables": {},
   "exception": true,
   "input_path": "__notebook__.ipynb",
   "output_path": "__notebook__.ipynb",
   "parameters": {},
   "start_time": "2023-06-07T14:50:46.322502",
   "version": "2.4.0"
  }
 },
 "nbformat": 4,
 "nbformat_minor": 5
}
