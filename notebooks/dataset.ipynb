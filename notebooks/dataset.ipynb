{
 "cells": [
  {
   "cell_type": "code",
   "execution_count": 5,
   "metadata": {},
   "outputs": [
    {
     "name": "stderr",
     "output_type": "stream",
     "text": [
      "No config specified, defaulting to: coco/2014\n",
      "Found cached dataset coco (/Users/baptiste/.cache/huggingface/datasets/HuggingFaceM4___coco/2014/1.0.0/7dba4b1d9b12e588770263b87c2a1fd7b03072c0a0cf550c896dbd09bf2bb7f8)\n"
     ]
    }
   ],
   "source": [
    "from datasets import load_dataset\n",
    "\n",
    "number_of_samples = 1000\n",
    "\n",
    "dataset = load_dataset(\"HuggingFaceM4/COCO\", split=f'train[0:{number_of_samples}]')\n"
   ]
  },
  {
   "cell_type": "code",
   "execution_count": 7,
   "metadata": {},
   "outputs": [
    {
     "data": {
      "text/plain": [
       "{'image': <PIL.JpegImagePlugin.JpegImageFile image mode=RGB size=640x480>,\n",
       " 'filepath': 'COCO_val2014_000000522418.jpg',\n",
       " 'sentids': [681330, 686718, 688839, 693159, 693204],\n",
       " 'filename': 'COCO_val2014_000000522418.jpg',\n",
       " 'imgid': 1,\n",
       " 'split': 'restval',\n",
       " 'sentences': {'tokens': ['a',\n",
       "   'woman',\n",
       "   'wearing',\n",
       "   'a',\n",
       "   'net',\n",
       "   'on',\n",
       "   'her',\n",
       "   'head',\n",
       "   'cutting',\n",
       "   'a',\n",
       "   'cake'],\n",
       "  'raw': 'A woman wearing a net on her head cutting a cake. ',\n",
       "  'imgid': 1,\n",
       "  'sentid': 681330},\n",
       " 'cocoid': 522418}"
      ]
     },
     "execution_count": 7,
     "metadata": {},
     "output_type": "execute_result"
    }
   ],
   "source": [
    "dataset[0]"
   ]
  }
 ],
 "metadata": {
  "kernelspec": {
   "display_name": "sam-controlnet",
   "language": "python",
   "name": "python3"
  },
  "language_info": {
   "codemirror_mode": {
    "name": "ipython",
    "version": 3
   },
   "file_extension": ".py",
   "mimetype": "text/x-python",
   "name": "python",
   "nbconvert_exporter": "python",
   "pygments_lexer": "ipython3",
   "version": "3.9.16"
  },
  "orig_nbformat": 4
 },
 "nbformat": 4,
 "nbformat_minor": 2
}
